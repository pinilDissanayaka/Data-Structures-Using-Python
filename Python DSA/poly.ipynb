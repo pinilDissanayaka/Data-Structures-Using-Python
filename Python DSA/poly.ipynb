{
 "cells": [
  {
   "cell_type": "markdown",
   "id": "5c0f7921",
   "metadata": {},
   "source": [
    "# Task A"
   ]
  },
  {
   "cell_type": "markdown",
   "id": "a16a9744",
   "metadata": {},
   "source": [
    "## 1"
   ]
  },
  {
   "cell_type": "code",
   "execution_count": 1,
   "id": "de76020b",
   "metadata": {},
   "outputs": [],
   "source": [
    "class Term(object) :\n",
    "    def __init__(self, coefficient : int, exponent : int)->None:\n",
    "        self.coefficient=coefficient\n",
    "        self.exponent=exponent\n",
    "        self.next=None"
   ]
  },
  {
   "cell_type": "code",
   "execution_count": 2,
   "id": "55297c18",
   "metadata": {},
   "outputs": [],
   "source": [
    "class Polynomial(object):\n",
    "    def __init__(self) -> None:\n",
    "        self.headTerm=None\n",
    "        \n",
    "    def insert(self, coefficient: int, exponent:int):\n",
    "        if coefficient == 0:\n",
    "            return\n",
    "        \n",
    "        newTerm=Term(coefficient=coefficient, exponent=exponent)\n",
    "        \n",
    "        if not self.headTerm:\n",
    "            self.headTerm=newTerm\n",
    "        else:\n",
    "            currentTerm=self.headTerm\n",
    "            while(currentTerm.next!=None):\n",
    "                currentTerm=currentTerm.next\n",
    "            \n",
    "            currentTerm.next=newTerm\n",
    "            newTerm.next=None\n",
    "            \n",
    "    def build(self, terms):\n",
    "        for term in terms:\n",
    "            coefficient, exponent = term\n",
    "            self.insert(coefficient=coefficient, exponent=exponent)\n",
    "            \n",
    "    def display(self):\n",
    "        currentTerm=self.headTerm\n",
    "        while(currentTerm!=None):\n",
    "            if currentTerm.exponent==0:\n",
    "                print(currentTerm.coefficient, end=\" \")\n",
    "            else:\n",
    "                print(f\"{currentTerm.coefficient}x^{currentTerm.exponent}\", end=\" \")\n",
    "            if currentTerm.next is not None:\n",
    "                print(f\"+\", end=\" \")\n",
    "            currentTerm=currentTerm.next\n",
    "        print()\n",
    "        \n",
    "        \n",
    "        \n",
    "    def add(self, polynomialExpression):\n",
    "        result = Polynomial()\n",
    "        currentSelf = self.headTerm\n",
    "        currentOther = polynomialExpression.headTerm\n",
    "\n",
    "        while currentSelf and currentOther:\n",
    "            if currentSelf.exponent == currentOther.exponent:\n",
    "                result.insert(currentSelf.coefficient + currentOther.coefficient, currentSelf.exponent)\n",
    "                currentSelf = currentSelf.next\n",
    "                currentOther = currentOther.next\n",
    "            elif currentSelf.exponent > currentOther.exponent:\n",
    "                result.insert(currentSelf.coefficient, currentSelf.exponent)\n",
    "                currentSelf = currentSelf.next\n",
    "            else:\n",
    "                result.insert(currentOther.coefficient, currentOther.exponent)\n",
    "                currentOther = currentOther.next\n",
    "        \n",
    "        while currentSelf:\n",
    "            result.insert(currentSelf.coefficient, currentSelf.exponent)\n",
    "            currentSelf = currentSelf.next\n",
    "        \n",
    "        while currentOther:\n",
    "            result.insert(currentOther.coefficient, currentOther.exponent)\n",
    "            current_other = current_other.next\n",
    "        \n",
    "        return result\n",
    "    \n",
    "    def sub(self, polynomialExpression):\n",
    "        result = Polynomial()\n",
    "        currentSelf = self.headTerm\n",
    "        currentOther = polynomialExpression.headTerm\n",
    "\n",
    "        while currentSelf and currentOther:\n",
    "            if currentSelf.exponent == currentOther.exponent:\n",
    "                result.insert(currentSelf.coefficient - currentOther.coefficient, currentSelf.exponent)\n",
    "                currentSelf = currentSelf.next\n",
    "                currentOther = currentOther.next\n",
    "            elif currentSelf.exponent > currentOther.exponent:\n",
    "                result.insert(currentSelf.coefficient, currentSelf.exponent)\n",
    "                currentSelf = currentSelf.next\n",
    "            else:\n",
    "                result.insert(-currentOther.coefficient, currentOther.exponent)\n",
    "                currentOther = currentOther.next\n",
    "        \n",
    "        while currentSelf:\n",
    "            result.insert(currentSelf.coefficient, currentSelf.exponent)\n",
    "            currentSelf = currentSelf.next\n",
    "        \n",
    "        while currentOther:\n",
    "            result.insert(-currentOther.coefficient, currentOther.exponent)\n",
    "            current_other = current_other.next\n",
    "        \n",
    "        return result\n",
    "        \n",
    "        \n",
    "    def mul(self, polynomialExpression):\n",
    "        result = Polynomial()\n",
    "\n",
    "        currentSelf = self.headTerm\n",
    "        while currentSelf:\n",
    "            currentOther = polynomialExpression.headTerm\n",
    "            while currentOther:\n",
    "                coefficient = currentSelf.coefficient * currentOther.coefficient\n",
    "                exponent = currentSelf.exponent + currentOther.exponent\n",
    "                result.insert(coefficient, exponent)\n",
    "                currentOther = currentOther.next\n",
    "            currentSelf = currentSelf.next\n",
    "\n",
    "        return result"
   ]
  },
  {
   "cell_type": "code",
   "execution_count": 3,
   "id": "d034732d",
   "metadata": {},
   "outputs": [
    {
     "name": "stdout",
     "output_type": "stream",
     "text": [
      "Polynomial P(x): 2x^2 + 3x^1 + 4 \n",
      "Polynomial Q(x): 2x^3 + 3x^2 + 4x^1 + 9 \n",
      "Polynomial R(x): 3x^3 + 3x^2 + 9x^1 + 9 \n"
     ]
    }
   ],
   "source": [
    "termsP = [(2, 2), (3, 1), (4, 0)]\n",
    "termsQ = [(2, 3), (3, 2), (4, 1), (9, 0)]\n",
    "termsR = [(3, 3), (3, 2), (9, 1), (9, 0)]\n",
    "\n",
    "p = Polynomial()\n",
    "q = Polynomial()\n",
    "r = Polynomial()\n",
    "\n",
    "p.build(termsP)\n",
    "q.build(termsQ)\n",
    "r.build(termsR)\n",
    "\n",
    "print(\"Polynomial P(x): \", end='')\n",
    "p.display()\n",
    "print(\"Polynomial Q(x): \", end='')\n",
    "q.display()\n",
    "print(\"Polynomial R(x): \", end='')\n",
    "r.display()"
   ]
  },
  {
   "cell_type": "markdown",
   "id": "8a663451",
   "metadata": {},
   "source": [
    "## 2"
   ]
  },
  {
   "cell_type": "code",
   "execution_count": 5,
   "id": "374ab85c",
   "metadata": {},
   "outputs": [
    {
     "name": "stdout",
     "output_type": "stream",
     "text": [
      "Polynomial P(x): 2x^2 + 3x^1 + 4 \n",
      "Polynomial Q(x): 2x^3 + 3x^2 + 4x^1 + 9 \n",
      "\n",
      "Polynomial R(x) = P(x) + Q(x): 2x^3 + 5x^2 + 7x^1 + 13 \n"
     ]
    }
   ],
   "source": [
    "p = Polynomial()\n",
    "q = Polynomial()\n",
    "\n",
    "termsP = [(2, 2), (3, 1), (4, 0)]\n",
    "termsQ = [(2, 3), (3, 2), (4, 1), (9, 0)]\n",
    "\n",
    "p.build(termsP)\n",
    "q.build(termsQ)\n",
    "\n",
    "print(\"Polynomial P(x): \", end='')\n",
    "p.display()\n",
    "print(\"Polynomial Q(x): \", end='')\n",
    "q.display()\n",
    "\n",
    "r = p.add(q)\n",
    "print()\n",
    "print(\"Polynomial R(x) = P(x) + Q(x): \", end='')\n",
    "r.display()"
   ]
  },
  {
   "cell_type": "markdown",
   "id": "59076488",
   "metadata": {},
   "source": [
    "## 3"
   ]
  },
  {
   "cell_type": "code",
   "execution_count": 8,
   "id": "f62ac441",
   "metadata": {},
   "outputs": [
    {
     "name": "stdout",
     "output_type": "stream",
     "text": [
      "Polynomial P(x): 2x^2 + 3x^1 + 4 \n",
      "Polynomial Q(x): 2x^3 + 3x^2 + 4x^1 + 9 \n",
      "\n",
      "Polynomial R(x) = P(x) - Q(x): -2x^3 + -1x^2 + -1x^1 + -5 \n"
     ]
    }
   ],
   "source": [
    "p = Polynomial()\n",
    "q = Polynomial()\n",
    "\n",
    "termsP = [(2, 2), (3, 1), (4, 0)]\n",
    "termsQ = [(2, 3), (3, 2), (4, 1), (9, 0)]\n",
    "\n",
    "p.build(termsP)\n",
    "q.build(termsQ)\n",
    "\n",
    "print(\"Polynomial P(x): \", end='')\n",
    "p.display()\n",
    "print(\"Polynomial Q(x): \", end='')\n",
    "q.display()\n",
    "\n",
    "r = p.sub(q)\n",
    "\n",
    "print()\n",
    "\n",
    "print(\"Polynomial R(x) = P(x) - Q(x): \", end='')\n",
    "r.display()"
   ]
  },
  {
   "cell_type": "markdown",
   "id": "cbf0b70d",
   "metadata": {},
   "source": [
    "## 4"
   ]
  },
  {
   "cell_type": "code",
   "execution_count": 9,
   "id": "8f0c7b2e",
   "metadata": {},
   "outputs": [
    {
     "name": "stdout",
     "output_type": "stream",
     "text": [
      "Polynomial P(x): 2x^2 + 3x^1 + 4 \n",
      "Polynomial Q(x): 2x^3 + 3x^2 + 4x^1 + 9 \n",
      "\n",
      "Polynomial R(x) = P(x) * Q(x): 4x^5 + 6x^4 + 8x^3 + 18x^2 + 6x^4 + 9x^3 + 12x^2 + 27x^1 + 8x^3 + 12x^2 + 16x^1 + 36 \n"
     ]
    }
   ],
   "source": [
    "p = Polynomial()\n",
    "q = Polynomial()\n",
    "\n",
    "termsP = [(2, 2), (3, 1), (4, 0)]\n",
    "termsQ = [(2, 3), (3, 2), (4, 1), (9, 0)]\n",
    "\n",
    "p.build(termsP)\n",
    "q.build(termsQ)\n",
    "\n",
    "print(\"Polynomial P(x): \", end='')\n",
    "p.display()\n",
    "print(\"Polynomial Q(x): \", end='')\n",
    "q.display()\n",
    "\n",
    "r = p.mul(q)\n",
    "\n",
    "print()\n",
    "print(\"Polynomial R(x) = P(x) * Q(x): \", end='')\n",
    "r.display()"
   ]
  },
  {
   "cell_type": "markdown",
   "id": "1d710fbd",
   "metadata": {},
   "source": [
    "## 5"
   ]
  },
  {
   "cell_type": "code",
   "execution_count": null,
   "id": "0c6e4b07",
   "metadata": {},
   "outputs": [],
   "source": []
  },
  {
   "cell_type": "code",
   "execution_count": null,
   "id": "49689a14",
   "metadata": {},
   "outputs": [],
   "source": []
  }
 ],
 "metadata": {
  "kernelspec": {
   "display_name": "Python 3 (ipykernel)",
   "language": "python",
   "name": "python3"
  },
  "language_info": {
   "codemirror_mode": {
    "name": "ipython",
    "version": 3
   },
   "file_extension": ".py",
   "mimetype": "text/x-python",
   "name": "python",
   "nbconvert_exporter": "python",
   "pygments_lexer": "ipython3",
   "version": "3.11.5"
  }
 },
 "nbformat": 4,
 "nbformat_minor": 5
}
